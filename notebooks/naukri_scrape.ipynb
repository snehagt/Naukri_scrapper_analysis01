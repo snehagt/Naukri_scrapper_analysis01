{
 "cells": [
  {
   "cell_type": "code",
   "execution_count": 2,
   "metadata": {},
   "outputs": [],
   "source": [
    "from selenium import webdriver\n",
    "from selenium.webdriver.common.by import By\n",
    "from selenium.webdriver.chrome.options import Options\n",
    "import random\n",
    "import time\n",
    "from selenium import webdriver\n",
    "from selenium.webdriver.support.ui import WebDriverWait\n",
    "from selenium.webdriver.support import expected_conditions as EC\n",
    "import csv\n",
    "import os"
   ]
  },
  {
   "cell_type": "code",
   "execution_count": null,
   "metadata": {},
   "outputs": [],
   "source": [
    "url = 'https://www.naukri.com/software-engineering-jobs?k=software%20engineering'"
   ]
  },
  {
   "cell_type": "code",
   "execution_count": 11,
   "metadata": {},
   "outputs": [
    {
     "name": "stdout",
     "output_type": "stream",
     "text": [
      "Page 1: Found 19 job listings\n",
      "Page 2: Found 20 job listings\n",
      "Page 3: Found 20 job listings\n",
      "Page 4: Found 19 job listings\n"
     ]
    }
   ],
   "source": [
    "file = 1\n",
    "\n",
    "for page in range(5,400):  \n",
    "    driver = webdriver.Chrome()\n",
    "    \n",
    "    driver.get('https://www.naukri.com/software-engineering-jobs-{}?k=software+engineering'.format(page))\n",
    "    \n",
    "    try:\n",
    "        elems = WebDriverWait(driver, 5).until(\n",
    "            EC.presence_of_all_elements_located((By.CSS_SELECTOR, '.cust-job-tuple.layout-wrapper.lay-2.sjw__tuple'))\n",
    "        )\n",
    "        \n",
    "        print(f\"Page {page}: Found {len(elems)} job listings\")\n",
    "        \n",
    "        with open(f'../scraping/naukri_data/job_listing_{file}.html', 'w', encoding='utf-8') as f:\n",
    "            for elem in elems:\n",
    "                d = elem.get_attribute('outerHTML')\n",
    "                f.write(d)\n",
    "            file+=1\n",
    "\n",
    "    except Exception as e:\n",
    "        print(f\"Error on page {page}: {str(e)}\")\n",
    "\n",
    "    driver.quit()\n"
   ]
  },
  {
   "cell_type": "markdown",
   "metadata": {},
   "source": [
    "Overwrite mode - Do not run"
   ]
  },
  {
   "cell_type": "code",
   "execution_count": 13,
   "metadata": {},
   "outputs": [
    {
     "name": "stdout",
     "output_type": "stream",
     "text": [
      "Page 1: Found 19 job listings\n",
      "Page 2: Found 20 job listings\n",
      "Page 3: Found 19 job listings\n",
      "Error extracting details for one of the job listings: Message: no such element: Unable to locate element: {\"method\":\"css selector\",\"selector\":\".exp-wrap .expwdth\"}\n",
      "  (Session info: chrome=128.0.6613.85); For documentation on this error, please visit: https://www.selenium.dev/documentation/webdriver/troubleshooting/errors#no-such-element-exception\n",
      "Stacktrace:\n",
      "\tGetHandleVerifier [0x00007FF63010B632+29090]\n",
      "\t(No symbol) [0x00007FF63007E6E9]\n",
      "\t(No symbol) [0x00007FF62FF3B1CA]\n",
      "\t(No symbol) [0x00007FF62FF8EFD7]\n",
      "\t(No symbol) [0x00007FF62FF8F22C]\n",
      "\t(No symbol) [0x00007FF62FF827CC]\n",
      "\t(No symbol) [0x00007FF62FFB672F]\n",
      "\t(No symbol) [0x00007FF62FF826A6]\n",
      "\t(No symbol) [0x00007FF62FFB6900]\n",
      "\t(No symbol) [0x00007FF62FFD65D9]\n",
      "\t(No symbol) [0x00007FF62FFB6493]\n",
      "\t(No symbol) [0x00007FF62FF809B1]\n",
      "\t(No symbol) [0x00007FF62FF81B11]\n",
      "\tGetHandleVerifier [0x00007FF63042881D+3294093]\n",
      "\tGetHandleVerifier [0x00007FF630474403+3604339]\n",
      "\tGetHandleVerifier [0x00007FF63046A2C7+3563063]\n",
      "\tGetHandleVerifier [0x00007FF6301C6F16+797318]\n",
      "\t(No symbol) [0x00007FF63008986F]\n",
      "\t(No symbol) [0x00007FF630085454]\n",
      "\t(No symbol) [0x00007FF6300855E0]\n",
      "\t(No symbol) [0x00007FF630074A7F]\n",
      "\tBaseThreadInitThunk [0x00007FFDD563257D+29]\n",
      "\tRtlUserThreadStart [0x00007FFDD65EAF28+40]\n",
      "\n"
     ]
    }
   ],
   "source": [
    "csv_file = open('../data/raw/naukri_job_listings.csv', 'w', newline='', encoding='utf-8')\n",
    "csv_writer = csv.writer(csv_file)\n",
    "csv_writer.writerow(['Company Name', 'Job Title', 'Experience Required', 'Salary', 'Location', 'Description', 'Skills', 'Time Posted', 'Reviews'])\n",
    "\n",
    "for i in range(1, 2): \n",
    "    driver = webdriver.Chrome()\n",
    "    \n",
    "    # Open the desired page\n",
    "    driver.get(f'https://www.naukri.com/software-engineering-jobs-{i}?k=software+engineering')\n",
    "    \n",
    "    try:\n",
    "        # Wait until the job listings are present in the DOM\n",
    "        elems = WebDriverWait(driver, 10).until(\n",
    "            EC.presence_of_all_elements_located((By.CSS_SELECTOR, '.cust-job-tuple.layout-wrapper.lay-2.sjw__tuple'))\n",
    "        )\n",
    "        \n",
    "        print(f\"Page {i}: Found {len(elems)} job listings\")\n",
    "        \n",
    "        # Loop through each job listing\n",
    "        for elem in elems:\n",
    "            try:\n",
    "                job_title = elem.find_element(By.CSS_SELECTOR, 'a.title').text\n",
    "                company_name = elem.find_element(By.CSS_SELECTOR, 'a.comp-name').text\n",
    "                experience = elem.find_element(By.CSS_SELECTOR, '.exp-wrap .expwdth').text\n",
    "                salary = elem.find_element(By.CSS_SELECTOR, '.sal-wrap span').text\n",
    "                location = elem.find_element(By.CSS_SELECTOR, '.loc-wrap .locWdth').text\n",
    "                description = elem.find_element(By.CSS_SELECTOR, '.job-desc').text\n",
    "                time_posted = elem.find_element(By.CSS_SELECTOR, '.job-post-day').text\n",
    "                \n",
    "                skills = ', '.join([skill.text for skill in elem.find_elements(By.CSS_SELECTOR, '.tags-gt .tag-li')])\n",
    "                \n",
    "                try:\n",
    "                    reviews = elem.find_element(By.CSS_SELECTOR, '.review').text\n",
    "                except:\n",
    "                    reviews = 'No reviews'\n",
    "                \n",
    "                csv_writer.writerow([company_name, job_title, experience, salary, location, description, skills, time_posted, reviews])\n",
    "\n",
    "            except Exception as e:\n",
    "                print(f\"Error extracting details for one of the job listings: {str(e)}\")\n",
    "    \n",
    "    except Exception as e:\n",
    "        print(f\"Error on page {i}: {str(e)}\")\n",
    "\n",
    "    driver.quit()\n",
    "\n",
    "csv_file.close()"
   ]
  },
  {
   "cell_type": "markdown",
   "metadata": {},
   "source": [
    "Append the data and run multiple times"
   ]
  },
  {
   "cell_type": "code",
   "execution_count": 3,
   "metadata": {},
   "outputs": [
    {
     "name": "stdout",
     "output_type": "stream",
     "text": [
      "Page 1501: Found 20 job listings\n"
     ]
    }
   ],
   "source": [
    "def safe_extract_text(element, selector, attribute='text'):\n",
    "    try:\n",
    "        if attribute == 'text':\n",
    "            return element.find_element(By.CSS_SELECTOR, selector).text.strip()\n",
    "        else:\n",
    "            return element.find_element(By.CSS_SELECTOR, selector).get_attribute(attribute).strip()\n",
    "    except:\n",
    "        return \"no data available\"\n",
    "\n",
    "fields = {\n",
    "    'Job Title': ('.title', 'text'),\n",
    "    'Company Name': ('.comp-name', 'text'),\n",
    "    'Experience Required': ('.exp-wrap .expwdth', 'text'),\n",
    "    'Salary': ('.sal-wrap .ni-job-tuple-icon-srp-rupee', 'text'),\n",
    "    'Location': ('.loc-wrap .locWdth', 'text'),\n",
    "    'Description': ('.job-desc', 'text'),\n",
    "    'Skills': ('.tags-gt .tag-li', 'list'),\n",
    "    'Time Posted': ('.job-post-day', 'text'),\n",
    "    'Reviews': ('.review', 'text')\n",
    "}\n",
    "\n",
    "csv_file_path = '../data/raw/naukri_job_listings.csv'\n",
    "file_exists = os.path.isfile(csv_file_path)\n",
    "\n",
    "with open(csv_file_path, mode='a' if file_exists else 'w', newline='', encoding='utf-8') as csv_file:\n",
    "    writer = csv.DictWriter(csv_file, fieldnames=fields.keys())\n",
    "    \n",
    "    if not file_exists:\n",
    "        writer.writeheader()\n",
    "\n",
    "    driver = webdriver.Chrome()\n",
    "\n",
    "    for page in range(1501, 1502):  # Loop through pages\n",
    "        driver.get(f'https://www.naukri.com/software-engineering-jobs-{page}?k=software+engineering')\n",
    "        \n",
    "        try:\n",
    "            job_listings = WebDriverWait(driver, 10).until(\n",
    "                EC.presence_of_all_elements_located((By.CSS_SELECTOR, '.cust-job-tuple.layout-wrapper.lay-2.sjw__tuple'))\n",
    "            )\n",
    "            print(f\"Page {page}: Found {len(job_listings)} job listings\")\n",
    "            \n",
    "            for listing in job_listings:\n",
    "                job_data = {}\n",
    "                \n",
    "                for field, (selector, attr) in fields.items():\n",
    "                    if attr == 'list':\n",
    "                        job_data[field] = ', '.join([item.text for item in listing.find_elements(By.CSS_SELECTOR, selector)]) or \"no data available\"\n",
    "                    else:\n",
    "                        job_data[field] = safe_extract_text(listing, selector, attr)\n",
    "                \n",
    "                writer.writerow(job_data)\n",
    "                \n",
    "        except Exception as e:\n",
    "            print(f\"Error extracting job listings on page {page}: {str(e)}\")\n",
    "\n",
    "    driver.quit()"
   ]
  }
 ],
 "metadata": {
  "kernelspec": {
   "display_name": "venv",
   "language": "python",
   "name": "python3"
  },
  "language_info": {
   "codemirror_mode": {
    "name": "ipython",
    "version": 3
   },
   "file_extension": ".py",
   "mimetype": "text/x-python",
   "name": "python",
   "nbconvert_exporter": "python",
   "pygments_lexer": "ipython3",
   "version": "3.8.10"
  }
 },
 "nbformat": 4,
 "nbformat_minor": 2
}
